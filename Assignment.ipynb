{
 "cells": [
  {
   "cell_type": "markdown",
   "id": "43b7dbe1-496f-429f-9758-e5eef14d9903",
   "metadata": {},
   "source": [
    "# Data Science tools and Ecosystem"
   ]
  },
  {
   "cell_type": "markdown",
   "id": "fd277167-19d8-494a-b301-73d9b44a246a",
   "metadata": {},
   "source": [
    "In this notebook various tools that can be used for data science and ecosystems are summarized."
   ]
  },
  {
   "cell_type": "markdown",
   "id": "4cd5a0b5-ffeb-45d8-bcec-7cc1c087ac57",
   "metadata": {},
   "source": [
    "Objectives:\n",
    "- Popular languages\n",
    "- Arithmetic operations\n",
    "- Data science tools"
   ]
  },
  {
   "cell_type": "markdown",
   "id": "57adb067-3b99-4f6b-8cce-f352dbdf5697",
   "metadata": {},
   "source": [
    "Some popular languages that data scientists use are:\n",
    "\n",
    "1. Python\n",
    "2. R\n",
    "3. SQL"
   ]
  },
  {
   "cell_type": "markdown",
   "id": "f1149618-85df-4389-a052-40755818deb4",
   "metadata": {},
   "source": [
    "Some of the most commonly used data science libraries include:\n",
    "\n",
    "1. Pandas\n",
    "2. NumPy\n",
    "3. SciPy\n",
    "4. Matplotlib"
   ]
  },
  {
   "cell_type": "markdown",
   "id": "1843b03b-798a-49ac-a2da-17dbf4468ce9",
   "metadata": {},
   "source": [
    "|**Data Science Tools**|\n",
    "|------|\n",
    "|IBM Watson Studio|\n",
    "|Jupyter Notebook|\n",
    "|R Studio|\n",
    "|Git Hub|"
   ]
  },
  {
   "cell_type": "markdown",
   "id": "5878124b-048a-421f-b764-88ce96e3df59",
   "metadata": {},
   "source": [
    "Below are few examples of evaluating arithmetic expressions in python:"
   ]
  },
  {
   "cell_type": "code",
   "execution_count": 2,
   "id": "226d552d-ced1-48d1-81d6-46d30138f5da",
   "metadata": {},
   "outputs": [
    {
     "data": {
      "text/plain": [
       "17"
      ]
     },
     "execution_count": 2,
     "metadata": {},
     "output_type": "execute_result"
    }
   ],
   "source": [
    "# This is a simple arithmetic expression to multiply and then add\n",
    "(3*4)+5"
   ]
  },
  {
   "cell_type": "code",
   "execution_count": 3,
   "id": "2163d596-949f-4cc1-ac74-ea36fd526f49",
   "metadata": {},
   "outputs": [
    {
     "data": {
      "text/plain": [
       "3.3333333333333335"
      ]
     },
     "execution_count": 3,
     "metadata": {},
     "output_type": "execute_result"
    }
   ],
   "source": [
    "# This will convert 200 minutes to hours\n",
    "200/60"
   ]
  },
  {
   "cell_type": "markdown",
   "id": "0553bb09-ae78-4ea7-a60b-7a29ec86c29b",
   "metadata": {},
   "source": [
    "## Author\n",
    "Purnima H"
   ]
  }
 ],
 "metadata": {
  "kernelspec": {
   "display_name": "Python",
   "language": "python",
   "name": "conda-env-python-py"
  },
  "language_info": {
   "codemirror_mode": {
    "name": "ipython",
    "version": 3
   },
   "file_extension": ".py",
   "mimetype": "text/x-python",
   "name": "python",
   "nbconvert_exporter": "python",
   "pygments_lexer": "ipython3",
   "version": "3.7.12"
  }
 },
 "nbformat": 4,
 "nbformat_minor": 5
}
